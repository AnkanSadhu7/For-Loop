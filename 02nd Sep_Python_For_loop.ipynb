{
 "cells": [
  {
   "cell_type": "code",
   "execution_count": null,
   "id": "e246d305-bdb7-41ab-ac95-67ba4ceab208",
   "metadata": {},
   "outputs": [],
   "source": [
    "# Basic Level:\n",
    "\n",
    "# 1. Print numbers from 1 to 10:\n",
    "for i in range(1, 11):\n",
    "    print(i)"
   ]
  },
  {
   "cell_type": "code",
   "execution_count": null,
   "id": "38bfff08-1d51-49c4-8907-37395e2770c8",
   "metadata": {},
   "outputs": [],
   "source": [
    "# 2. Calculate the sum of all numbers in a list:\n",
    "numbers = [1, 2, 3, 4, 5]\n",
    "sum_numbers = 0\n",
    "for num in numbers:\n",
    "    sum_numbers += num\n",
    "print(\"Sum:\", sum_numbers)"
   ]
  },
  {
   "cell_type": "code",
   "execution_count": null,
   "id": "71b05898-ad32-4709-bc85-57cf281a25fc",
   "metadata": {},
   "outputs": [],
   "source": [
    "# 3. Print the characters of a string in reverse order:\n",
    "string = \"hello\"\n",
    "for char in reversed(string):\n",
    "    print(char, end=\"\")\n",
    "print()"
   ]
  },
  {
   "cell_type": "code",
   "execution_count": null,
   "id": "0d6e7bd4-f74e-41c2-93f3-c985d251c450",
   "metadata": {},
   "outputs": [],
   "source": [
    "# 4. Find the factorial of a given number:\n",
    "num = 5\n",
    "factorial = 1\n",
    "for i in range(1, num + 1):\n",
    "    factorial *= i\n",
    "print(\"Factorial:\", factorial)"
   ]
  },
  {
   "cell_type": "code",
   "execution_count": null,
   "id": "8d5e4603-941c-48d2-8a54-db2e76b2eccb",
   "metadata": {},
   "outputs": [],
   "source": [
    "# 5. Print the multiplication table of a given number:\n",
    "num = 5\n",
    "for i in range(1, 11):\n",
    "    print(f\"{num} x {i} = {num * i}\")"
   ]
  },
  {
   "cell_type": "code",
   "execution_count": null,
   "id": "f353e4bc-6c4d-4f8f-8679-87d7f87b4906",
   "metadata": {},
   "outputs": [],
   "source": [
    "# 6. Count the number of even and odd numbers in a list:\n",
    "numbers = [1, 2, 3, 4, 5, 6]\n",
    "even_count = 0\n",
    "odd_count = 0\n",
    "for num in numbers:\n",
    "    if num % 2 == 0:\n",
    "        even_count += 1\n",
    "    else:\n",
    "        odd_count += 1\n",
    "print(\"Even count:\", even_count)\n",
    "print(\"Odd count:\", odd_count)"
   ]
  },
  {
   "cell_type": "code",
   "execution_count": null,
   "id": "ce07eacc-5a0e-47f1-a711-7049dcba350e",
   "metadata": {},
   "outputs": [],
   "source": [
    "# 7. Print the squares of numbers from 1 to 5:\n",
    "for i in range(1, 6):\n",
    "    print(f\"Square of {i}: {i * i}\")"
   ]
  },
  {
   "cell_type": "code",
   "execution_count": null,
   "id": "82ccedd5-5fcf-4e01-842c-52d28d093cc1",
   "metadata": {},
   "outputs": [],
   "source": [
    "# 8. Find the length of a string without using len() function:\n",
    "string = \"hello\"\n",
    "length = 0\n",
    "for char in string:\n",
    "    length += 1\n",
    "print(\"Length:\", length)"
   ]
  },
  {
   "cell_type": "code",
   "execution_count": null,
   "id": "391cbe9c-5048-4d05-8e29-a3614b363fe2",
   "metadata": {},
   "outputs": [],
   "source": [
    "# 9. Calculate the average of a list of numbers:\n",
    "numbers = [1, 2, 3, 4, 5]\n",
    "sum_numbers = 0\n",
    "for num in numbers:\n",
    "    sum_numbers += num\n",
    "average = sum_numbers / len(numbers)\n",
    "print(\"Average:\", average)"
   ]
  },
  {
   "cell_type": "code",
   "execution_count": null,
   "id": "00aa5031-c291-4a1e-9cd9-88276efd7cbd",
   "metadata": {},
   "outputs": [],
   "source": [
    "# 10. Print the first n Fibonacci numbers:\n",
    "n = 10\n",
    "fib = [0, 1]\n",
    "for i in range(2, n):\n",
    "    next_fib = fib[-1] + fib[-2]\n",
    "    fib.append(next_fib)\n",
    "print(fib)"
   ]
  },
  {
   "cell_type": "code",
   "execution_count": null,
   "id": "8bdb3d46-fc09-4dfe-93cd-4e9eada2f77c",
   "metadata": {},
   "outputs": [],
   "source": [
    "# Intermediate Level:\n",
    "\n",
    "# 11. Check if a given list contains any duplicates:\n",
    "numbers = [1, 2, 3, 4, 5, 5]\n",
    "unique_numbers = []\n",
    "for num in numbers:\n",
    "    if num in unique_numbers:\n",
    "        print(\"Duplicates found\")\n",
    "        break\n",
    "    unique_numbers.append(num)\n",
    "else:\n",
    "    print(\"No duplicates\")"
   ]
  },
  {
   "cell_type": "code",
   "execution_count": null,
   "id": "0970b4ba-e7c6-4cd3-9c5b-00561881ef4a",
   "metadata": {},
   "outputs": [],
   "source": [
    "# 12. Print prime numbers in a given range:\n",
    "start = 10\n",
    "end = 30\n",
    "for num in range(start, end + 1):\n",
    "    if num > 1:\n",
    "        for i in range(2, num):\n",
    "            if (num % i) == 0:\n",
    "                break\n",
    "        else:\n",
    "            print(num)"
   ]
  },
  {
   "cell_type": "code",
   "execution_count": null,
   "id": "8c7b7b7b-ce2c-4d84-8fbd-11438fa94024",
   "metadata": {},
   "outputs": [],
   "source": [
    "# 13. Count the number of vowels in a string:\n",
    "string = \"hello world\"\n",
    "vowels = \"aeiouAEIOU\"\n",
    "count = 0\n",
    "for char in string:\n",
    "    if char in vowels:\n",
    "        count += 1\n",
    "print(\"Number of vowels:\", count)"
   ]
  },
  {
   "cell_type": "code",
   "execution_count": null,
   "id": "787cd8d7-c6f6-4d15-8403-e6f6102292d7",
   "metadata": {},
   "outputs": [],
   "source": [
    "# 14. Find the maximum element in a 2D list:\n",
    "matrix = [[1, 2, 3], [4, 5, 6], [7, 8, 9]]\n",
    "max_element = matrix[0][0]\n",
    "for row in matrix:\n",
    "    for element in row:\n",
    "        if element > max_element:\n",
    "            max_element = element\n",
    "print(\"Maximum element:\", max_element)"
   ]
  },
  {
   "cell_type": "code",
   "execution_count": null,
   "id": "f7d8b1f2-ba84-4bbc-b055-325b2caddda8",
   "metadata": {},
   "outputs": [],
   "source": [
    "# 15. Remove all occurrences of a specific element from a list:\n",
    "numbers = [1, 2, 3, 4, 2, 5, 2]\n",
    "to_remove = 2\n",
    "result = []\n",
    "for num in numbers:\n",
    "    if num != to_remove:\n",
    "        result.append(num)\n",
    "print(\"List after removal:\", result)"
   ]
  },
  {
   "cell_type": "code",
   "execution_count": null,
   "id": "73bd3447-9787-456f-adcc-b010ffe01994",
   "metadata": {},
   "outputs": [],
   "source": [
    "# 16. Generate a multiplication table for numbers from 1 to 5:\n",
    "for i in range(1, 6):\n",
    "    for j in range(1, 11):\n",
    "        print(f\"{i} x {j} = {i * j}\")\n",
    "    print()"
   ]
  },
  {
   "cell_type": "code",
   "execution_count": null,
   "id": "29636bdb-d854-4b4e-a74a-d1a01cfb11ea",
   "metadata": {},
   "outputs": [],
   "source": [
    "# 17. Convert a list of Fahrenheit temperatures to Celsius:\n",
    "fahrenheit_temps = [32, 68, 104]\n",
    "celsius_temps = []\n",
    "for temp in fahrenheit_temps:\n",
    "    celsius = (temp - 32) * 5.0/9.0\n",
    "    celsius_temps.append(celsius)\n",
    "print(\"Celsius temperatures:\", celsius_temps)"
   ]
  },
  {
   "cell_type": "code",
   "execution_count": null,
   "id": "b0cbcebc-b6b3-4686-a861-99a0ca40c62d",
   "metadata": {},
   "outputs": [],
   "source": [
    "# 18. Print the common elements from two lists:\n",
    "list1 = [1, 2, 3, 4]\n",
    "list2 = [3, 4, 5, 6]\n",
    "common_elements = []\n",
    "for element in list1:\n",
    "    if element in list2:\n",
    "        common_elements.append(element)\n",
    "print(\"Common elements:\", common_elements)"
   ]
  },
  {
   "cell_type": "code",
   "execution_count": null,
   "id": "24791951-4264-4d18-b651-0c57dd7d77bd",
   "metadata": {},
   "outputs": [],
   "source": [
    "# 19. Print the pattern of right-angled triangles:\n",
    "n = 5\n",
    "for i in range(1, n + 1):\n",
    "    print('*' * i)"
   ]
  },
  {
   "cell_type": "code",
   "execution_count": null,
   "id": "6caf6de3-179d-4c72-ac1d-ce4a940bc36f",
   "metadata": {},
   "outputs": [],
   "source": [
    "# 20. Find the greatest common divisor (GCD) of two numbers:\n",
    "a = 60\n",
    "b = 48\n",
    "gcd = 1\n",
    "for i in range(1, min(a, b) + 1):\n",
    "    if a % i == 0 and b % i == 0:\n",
    "        gcd = i\n",
    "print(\"GCD:\", gcd)"
   ]
  },
  {
   "cell_type": "code",
   "execution_count": null,
   "id": "0ef1c204-abaa-45ab-9dd1-073902f45e38",
   "metadata": {},
   "outputs": [],
   "source": [
    "# Advanced Level:\n",
    "\n",
    "# 21. Calculate the sum of the digits of numbers in a list:\n",
    "numbers = [12, 34, 56]\n",
    "sum_digits = [sum(int(digit) for digit in str(num)) for num in numbers]\n",
    "print(\"Sum of digits:\", sum_digits)\n",
    "\n",
    "# 22. Find the prime factors of a given number:\n",
    "num = 56\n",
    "factors = []\n",
    "for i in range(2, num + 1):\n",
    "    while num % i == 0:\n",
    "        factors.append(i)\n",
    "        num //= i\n",
    "print(\"Prime factors:\", factors)"
   ]
  },
  {
   "cell_type": "code",
   "execution_count": null,
   "id": "cbaa817b-15bd-415d-a72b-c21222325ddd",
   "metadata": {},
   "outputs": [],
   "source": [
    "# 23. Extract unique elements from a list:\n",
    "numbers = [1, 2, 2, 3, 4, 4, 5]\n",
    "unique_numbers = list(set(numbers))\n",
    "print(\"Unique elements:\", unique_numbers)"
   ]
  },
  {
   "cell_type": "code",
   "execution_count": null,
   "id": "fe7e9b10-1b3e-4e76-86d6-fc9f83720171",
   "metadata": {},
   "outputs": [],
   "source": [
    "# 24. Generate a list of all palindromic numbers up to a specified limit:\n",
    "limit = 200\n",
    "palindromes = [num for num in range(limit + 1) if str(num) == str(num)[::-1]]\n",
    "print(\"Palindromic numbers:\", palindromes)"
   ]
  },
  {
   "cell_type": "code",
   "execution_count": null,
   "id": "36d9e332-aeb2-4184-91b2-0938c2cd9074",
   "metadata": {},
   "outputs": [],
   "source": [
    "# 25. Flatten a nested list:\n",
    "nested_list = [[1, 2], [3, 4], [5, 6]]\n",
    "flat_list = [item for sublist in nested_list for item in sublist]\n",
    "print(\"Flattened list:\", flat_list)"
   ]
  },
  {
   "cell_type": "code",
   "execution_count": null,
   "id": "a24ad55b-40bb-4c5b-a2f2-a752dac6c023",
   "metadata": {},
   "outputs": [],
   "source": [
    "# 26. Compute the sum of even and odd numbers in a list separately:\n",
    "numbers = [1, 2, 3, 4, 5, 6]\n",
    "sum_even = sum([num for num in numbers if num % 2 == 0])\n",
    "sum_odd = sum([num for num in numbers if num % 2 != 0])\n",
    "print(\"Sum of even numbers:\", sum_even)\n",
    "print(\"Sum of odd numbers:\", sum_odd)"
   ]
  },
  {
   "cell_type": "code",
   "execution_count": null,
   "id": "f9273269-c60f-44f3-a796-005f25a22c3f",
   "metadata": {},
   "outputs": [],
   "source": [
    "# 27. Generate a list of squares of odd numbers between 1 and 10:\n",
    "squares_odd = [num**2 for num in range(1, 11) if num % 2 != 0]\n",
    "print(\"Squares of odd numbers:\", squares_odd)"
   ]
  },
  {
   "cell_type": "code",
   "execution_count": null,
   "id": "0b886861-8c1c-4295-8c46-ca2b990a5e67",
   "metadata": {},
   "outputs": [],
   "source": [
    "# 28. Combine two lists into a dictionary:\n",
    "keys = ['a', 'b', 'c']\n",
    "values = [1, 2, 3]\n",
    "dictionary = {keys[i]: values[i] for i in range(len(keys))}\n",
    "print(\"Dictionary:\", dictionary)"
   ]
  },
  {
   "cell_type": "code",
   "execution_count": null,
   "id": "8db01c5a-e7d0-454b-8c62-78dd091ba26c",
   "metadata": {},
   "outputs": [],
   "source": [
    "# 29. Extract the vowels from a string and store them in a list:\n",
    "string = \"hello world\"\n",
    "vowels = [char for char in string if char in 'aeiouAEIOU']\n",
    "print(\"Vowels:\", vowels)"
   ]
  },
  {
   "cell_type": "code",
   "execution_count": null,
   "id": "6a8e400f-e8fb-4fde-9ee1-1b3f275400fb",
   "metadata": {},
   "outputs": [],
   "source": [
    "# 30. Remove all non-numeric characters from a list of strings:\n",
    "strings = [\"abc123\", \"def456\", \"ghi789\"]\n",
    "numeric_only = [''.join(filter(str.isdigit, s)) for s in strings]\n",
    "print(\"Numeric characters only:\", numeric_only)"
   ]
  },
  {
   "cell_type": "code",
   "execution_count": null,
   "id": "043c935f-a5d9-4866-b9ab-952fdd23c1c0",
   "metadata": {},
   "outputs": [],
   "source": [
    "# Challenge Level:\n",
    "\n",
    "# 31. Generate a list of prime numbers using the Sieve of Eratosthenes:\n",
    "limit = 50\n",
    "sieve = [True] * (limit + 1)\n",
    "sieve[0:2] = [False, False]\n",
    "for start in range(2, int(limit**0.5) + 1):\n",
    "    if sieve[start]:\n",
    "        for i in range(start*start, limit + 1, start):\n",
    "            sieve[i] = False\n",
    "primes = [num for num, is_prime in enumerate(sieve) if is_prime]\n",
    "print(\"Prime numbers:\", primes)"
   ]
  },
  {
   "cell_type": "code",
   "execution_count": null,
   "id": "e544b60f-5288-4171-922a-07c0cb92b6ab",
   "metadata": {},
   "outputs": [],
   "source": [
    "# 32. Generate a list of all Pythagorean triplets up to a specified limit:\n",
    "limit = 20\n",
    "triplets = [(a, b, c) for a in range(1, limit + 1) for b in range(a, limit + 1) for c in range(b, limit + 1) if a**2 + b**2 == c**2]\n",
    "print(\"Pythagorean triplets:\", triplets)"
   ]
  },
  {
   "cell_type": "code",
   "execution_count": null,
   "id": "8f4040d2-9156-41ad-8d3d-78131c28c9d9",
   "metadata": {},
   "outputs": [],
   "source": [
    "# Assignment Questions:\n",
    "\n",
    "# 33. Generate a list of all possible combinations of two lists:\n",
    "list1 = [1, 2, 3]\n",
    "list2 = ['a', 'b', 'c']\n",
    "combinations = [(x, y) for x in list1 for y in list2]\n",
    "print(\"Combinations:\", combinations)"
   ]
  },
  {
   "cell_type": "code",
   "execution_count": null,
   "id": "e6f0bfab-d1ae-4152-a45f-bdcbf2d34792",
   "metadata": {},
   "outputs": [],
   "source": [
    "# 34. Calculate the mean, median, and mode of a list of numbers:\n",
    "from statistics import mean, median, mode\n",
    "\n",
    "numbers = [1, 2, 2, 3, 4, 5, 5]\n",
    "mean_val = mean(numbers)\n",
    "median_val = median(numbers)\n",
    "mode_val = mode(numbers)\n",
    "print(\"Mean:\", mean_val)\n",
    "print(\"Median:\", median_val)\n",
    "print(\"Mode:\", mode_val)"
   ]
  },
  {
   "cell_type": "code",
   "execution_count": null,
   "id": "56aac5e7-762c-435e-b13c-22747c650801",
   "metadata": {},
   "outputs": [],
   "source": [
    "# 35. Generate Pascal's triangle up to a specified number of rows:\n",
    "n = 5\n",
    "pascal = [[1] * (i + 1) for i in range(n)]\n",
    "for i in range(2, n):\n",
    "    for j in range(1, i):\n",
    "        pascal[i][j] = pascal[i-1][j-1] + pascal[i-1][j]\n",
    "for row in pascal:\n",
    "    print(row)"
   ]
  },
  {
   "cell_type": "code",
   "execution_count": null,
   "id": "2f526532-f63b-4a01-9e60-4e2db32ef995",
   "metadata": {},
   "outputs": [],
   "source": [
    "# 36. Calculate the sum of the digits of a factorial of numbers from 1 to 5:\n",
    "import math\n",
    "sums = [sum(int(digit) for digit in str(math.factorial(i))) for i in range(1, 6)]\n",
    "print(\"Sum of digits of factorials:\", sums)"
   ]
  },
  {
   "cell_type": "code",
   "execution_count": null,
   "id": "6d26eceb-4bcb-4e47-a79f-37c95b660aa5",
   "metadata": {},
   "outputs": [],
   "source": [
    "# 37. Find the longest word in a sentence:\n",
    "sentence = \"The quick brown fox jumps over the lazy dog\"\n",
    "longest_word = max(sentence.split(), key=len)\n",
    "print(\"Longest word:\", longest_word)"
   ]
  },
  {
   "cell_type": "code",
   "execution_count": null,
   "id": "14374981-2885-48b1-a10a-d27c46a5ce0d",
   "metadata": {},
   "outputs": [],
   "source": [
    "# 38. Filter a list of strings to include only those with more than three vowels:\n",
    "words = [\"hello\", \"education\", \"beautiful\", \"world\"]\n",
    "filtered_words = [word for word in words if sum(char in 'aeiouAEIOU' for char in word) > 3]\n",
    "print(\"Words with more than three vowels:\", filtered_words)"
   ]
  },
  {
   "cell_type": "code",
   "execution_count": null,
   "id": "514e7b41-af28-471c-9bc9-042b4418fbe1",
   "metadata": {},
   "outputs": [],
   "source": [
    "# 39. Calculate the sum of the digits of numbers from 1 to 1000:\n",
    "sum_digits = sum(sum(int(digit) for digit in str(num)) for num in range(1, 1001))\n",
    "print(\"Sum of digits from 1 to 1000:\", sum_digits)"
   ]
  },
  {
   "cell_type": "code",
   "execution_count": null,
   "id": "078a449d-eb3c-4a0c-bcc2-75ae6eda1843",
   "metadata": {},
   "outputs": [],
   "source": [
    "# 40. Generate a list of prime palindromic numbers:\n",
    "limit = 1000\n",
    "sieve = [True] * (limit + 1)\n",
    "sieve[0:2] = [False, False]\n",
    "for start in range(2, int(limit**0.5) + 1):\n",
    "    if sieve[start]:\n",
    "        for i in range(start*start, limit + 1, start):\n",
    "            sieve[i] = False\n",
    "primes = [num for num, is_prime in enumerate(sieve) if is_prime]\n",
    "prime_palindromes = [num for num in primes if str(num) == str(num)[::-1]]\n",
    "print(\"Prime palindromic numbers:\", prime_palindromes)"
   ]
  }
 ],
 "metadata": {
  "kernelspec": {
   "display_name": "Python 3 (ipykernel)",
   "language": "python",
   "name": "python3"
  },
  "language_info": {
   "codemirror_mode": {
    "name": "ipython",
    "version": 3
   },
   "file_extension": ".py",
   "mimetype": "text/x-python",
   "name": "python",
   "nbconvert_exporter": "python",
   "pygments_lexer": "ipython3",
   "version": "3.10.8"
  }
 },
 "nbformat": 4,
 "nbformat_minor": 5
}
